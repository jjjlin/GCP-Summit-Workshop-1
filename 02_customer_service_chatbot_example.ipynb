{
 "cells": [
  {
   "cell_type": "code",
   "execution_count": 11,
   "id": "eedf1adb-c941-4554-9b5c-218a5acec367",
   "metadata": {},
   "outputs": [],
   "source": [
    "import vertexai\n",
    "\n",
    "PROJECT_ID = 'test1-338004'\n",
    "LOCATION = 'us-central1'\n",
    "\n",
    "vertexai.init(project=PROJECT_ID, location=LOCATION)"
   ]
  },
  {
   "cell_type": "code",
   "execution_count": 12,
   "id": "f663cb32-74b7-43e6-8ed3-a777d1efa0d0",
   "metadata": {},
   "outputs": [],
   "source": [
    "from vertexai.language_models import TextGenerationModel\n",
    "\n",
    "model = TextGenerationModel.from_pretrained('text-bison@latest')"
   ]
  },
  {
   "cell_type": "code",
   "execution_count": 13,
   "id": "ea240260-3627-41ea-b47d-a7a4712718bf",
   "metadata": {},
   "outputs": [],
   "source": [
    "prompt = \"\"\"Background: You are a customer service representative of Cymbal. \\\n",
    "Here is Cymbal policy: How many days do I have to return my purchase? \\\n",
    "We offer free returns and exchanges within 30 days of your delivery, \\\n",
    "with exceptions as described in our Returns Policy \\\n",
    "Certain items are designated as final sale and not eligible for returns or exchanges. \\\n",
    "All on-sale purchases are final. \\\n",
    "\n",
    "Q: I was in a car accident last month and couldn't return the item in the 30 days time window. Can you make an exception for me?\n",
    "A: I understand that you had an emergency and were unable to return your order within the 30-day window. I would be happy to make an exception for you. Please contact our customer service department at 1-555-010--2667 and they will be able to assist you with your return.\n",
    "Once your return is approved, you will be issued a return label. Please pack the item carefully and ship it back to us. We will process your refund within 3-5 business days of receiving the returned item.\n",
    "\n",
    "Q: I forgot to return the item within 30 days. Can you make an exception for me?\n",
    "A: I understand that you want to return the item, but we are unable to return your order since you have missed the 30-day window. Please let me know anything else I can assist you with.\n",
    "\n",
    "Q: I want to return my order. What's your return policy?\n",
    "A:\"\"\"\n",
    "\n",
    "parameters = {\n",
    "    'temperature': 0.1, # default 0\n",
    "    'max_output_tokens': 256, # default 128\n",
    "    'top_p': 0.8, # default 0.95\n",
    "    'top_k': 40 # default 40\n",
    "}\n",
    "\n",
    "\n",
    "response = model.predict(\n",
    "    prompt=prompt,\n",
    "    **parameters\n",
    ")"
   ]
  },
  {
   "cell_type": "code",
   "execution_count": 14,
   "id": "ae69d955-3c74-4f56-87cd-30ef7112a2cd",
   "metadata": {},
   "outputs": [
    {
     "name": "stdout",
     "output_type": "stream",
     "text": [
      " We offer free returns and exchanges within 30 days of your delivery, with exceptions as described in our Returns Policy Certain items are designated as final sale and not eligible for returns or exchanges. All on-sale purchases are final. \n",
      "If you would like to return an item, please contact our customer service department at 1-555-010--2667 and they will be able to assist you with your return.\n",
      "Once your return is approved, you will be issued a return label. Please pack the item carefully and ship it back to us. We will process your refund within 3-5 business days of receiving the returned item.\n"
     ]
    }
   ],
   "source": [
    "print(response.text)"
   ]
  },
  {
   "cell_type": "code",
   "execution_count": 15,
   "id": "293b452e-2d2f-43b8-b8a8-b5aabd948d57",
   "metadata": {},
   "outputs": [
    {
     "name": "stdout",
     "output_type": "stream",
     "text": [
      " We understand that you were traveling abroad and were unable to return your items within the 30-day return window. As a one-time exception, we will accept your return and issue a refund. Please send your items back to us at the following address:\n",
      "\n",
      "[Company Name]\n",
      "[Returns Department]\n",
      "[Address]\n",
      "\n",
      "Please include your order number and a copy of your packing slip with your return. We will process your refund once we receive your items.\n",
      "\n",
      "Thank you for your understanding.\n"
     ]
    }
   ],
   "source": [
    "prompt = \"\"\"\n",
    "\n",
    "Q: I ordered 30 days ago. Could you please help me with an exception? I was traveling abroad.\n",
    "A:\"\"\"\n",
    "\n",
    "parameters = {\n",
    "    'temperature': 0.1, # default 0\n",
    "    'max_output_tokens': 256, # default 128\n",
    "    'top_p': 0.8, # default 0.95\n",
    "    'top_k': 40 # default 40\n",
    "}\n",
    "\n",
    "response = model.predict(\n",
    "    prompt=prompt,\n",
    "    **parameters\n",
    ")\n",
    "\n",
    "print(response.text)"
   ]
  },
  {
   "cell_type": "code",
   "execution_count": null,
   "id": "635c13cd-8dcd-4fdc-881c-006aa9025e36",
   "metadata": {},
   "outputs": [],
   "source": []
  },
  {
   "cell_type": "code",
   "execution_count": null,
   "id": "de6135ab-e545-47c7-8a2c-f8a6ffec42cc",
   "metadata": {},
   "outputs": [],
   "source": []
  }
 ],
 "metadata": {
  "environment": {
   "kernel": "python3",
   "name": "tf2-gpu.2-3.m112",
   "type": "gcloud",
   "uri": "gcr.io/deeplearning-platform-release/tf2-gpu.2-3:m112"
  },
  "kernelspec": {
   "display_name": "Python 3 (ipykernel)",
   "language": "python",
   "name": "python3"
  },
  "language_info": {
   "codemirror_mode": {
    "name": "ipython",
    "version": 3
   },
   "file_extension": ".py",
   "mimetype": "text/x-python",
   "name": "python",
   "nbconvert_exporter": "python",
   "pygments_lexer": "ipython3",
   "version": "3.7.12"
  }
 },
 "nbformat": 4,
 "nbformat_minor": 5
}
