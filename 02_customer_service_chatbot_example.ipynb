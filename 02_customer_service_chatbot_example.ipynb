{
 "cells": [
  {
   "cell_type": "code",
   "execution_count": 16,
   "id": "eedf1adb-c941-4554-9b5c-218a5acec367",
   "metadata": {},
   "outputs": [],
   "source": [
    "import vertexai\n",
    "\n",
    "PROJECT_ID = 'test1-338004'\n",
    "LOCATION = 'us-central1'\n",
    "\n",
    "vertexai.init(project=PROJECT_ID, location=LOCATION)"
   ]
  },
  {
   "cell_type": "code",
   "execution_count": 17,
   "id": "f663cb32-74b7-43e6-8ed3-a777d1efa0d0",
   "metadata": {},
   "outputs": [],
   "source": [
    "from vertexai.language_models import TextGenerationModel\n",
    "\n",
    "model = TextGenerationModel.from_pretrained('text-bison@latest')"
   ]
  },
  {
   "cell_type": "code",
   "execution_count": 19,
   "id": "ea240260-3627-41ea-b47d-a7a4712718bf",
   "metadata": {},
   "outputs": [],
   "source": [
    "prompt = \"\"\"您是 Cymbal 的客戶服務代表。 \\\n",
    "以下是 Cymbal 政策： 我必須在多少天內退貨？ \\\n",
    "我們在交貨後 30 天內提供免費退貨和換貨服務，\\\n",
    "但我們的退貨政策中所述的例外情況\\\n",
    "某些商品被指定為最終銷售，不符合退貨或換貨條件。 \\\n",
    "所有銷售購買均為最終購買。 \\\n",
    "\n",
    "問：我上個月遭遇車禍，無法在 30 天的時間內退回商品。 你能為我破例嗎？\n",
    "答：據我了解，您遇到緊急情況，無法在 30 天內退回訂單。 我很樂意為您破例。 請致電 1-555-010--2667 聯絡我們的客戶服務部門，他們將協助您辦理退貨。\n",
    "一旦您的退貨獲得批准，您將收到一個退貨標籤。 請仔細包裝該物品並將其運回給我們。 我們將在收到退貨後 3-5 個工作天內處理您的退款。\n",
    "\n",
    "Q：我忘記在 30 天內退貨。 你能為我破例嗎？\n",
    "答：我了解您想要退貨，但由於您錯過了 30 天的期限，我們無法退回您的訂單。 請告訴我還有什麼可以幫助您的。\n",
    "\n",
    "Q：我想退貨。 你們的退貨政策是什麼？\n",
    "A：\"\"\"\n",
    "\n",
    "parameters = {\n",
    "    'temperature': 0.1, # default 0\n",
    "    'max_output_tokens': 256, # default 128\n",
    "    'top_p': 0.8, # default 0.95\n",
    "    'top_k': 40 # default 40\n",
    "}\n",
    "\n",
    "\n",
    "response = model.predict(\n",
    "    prompt=prompt,\n",
    "    **parameters\n",
    ")"
   ]
  },
  {
   "cell_type": "code",
   "execution_count": 20,
   "id": "ae69d955-3c74-4f56-87cd-30ef7112a2cd",
   "metadata": {},
   "outputs": [
    {
     "name": "stdout",
     "output_type": "stream",
     "text": [
      " 我們在交貨後 30 天內提供免費退貨和換貨服務，但我們的退貨政策中所述的例外情況某些商品被指定為最終銷售，不符合退貨或換貨條件。 所有銷售購買均為最終購買。\n"
     ]
    }
   ],
   "source": [
    "print(response.text)"
   ]
  },
  {
   "cell_type": "code",
   "execution_count": 21,
   "id": "293b452e-2d2f-43b8-b8a8-b5aabd948d57",
   "metadata": {},
   "outputs": [
    {
     "name": "stdout",
     "output_type": "stream",
     "text": [
      " 您好，很抱歉，我無法為您提供例外處理。我們的政策是，所有訂單必須在 14 天內取消。如果您在 14 天後取消訂單，我們將無法為您退款。\n"
     ]
    }
   ],
   "source": [
    "prompt = \"\"\"\n",
    "\n",
    "Q: 我 30 天前訂購的。 你能幫我當作例外處理嗎？ 我當時正在國外旅行。\n",
    "A:\"\"\"\n",
    "\n",
    "parameters = {\n",
    "    'temperature': 0.1, # default 0\n",
    "    'max_output_tokens': 256, # default 128\n",
    "    'top_p': 0.8, # default 0.95\n",
    "    'top_k': 40 # default 40\n",
    "}\n",
    "\n",
    "response = model.predict(\n",
    "    prompt=prompt,\n",
    "    **parameters\n",
    ")\n",
    "\n",
    "print(response.text)"
   ]
  },
  {
   "cell_type": "code",
   "execution_count": null,
   "id": "635c13cd-8dcd-4fdc-881c-006aa9025e36",
   "metadata": {},
   "outputs": [],
   "source": []
  },
  {
   "cell_type": "code",
   "execution_count": null,
   "id": "de6135ab-e545-47c7-8a2c-f8a6ffec42cc",
   "metadata": {},
   "outputs": [],
   "source": []
  }
 ],
 "metadata": {
  "environment": {
   "kernel": "python3",
   "name": "tf2-gpu.2-3.m112",
   "type": "gcloud",
   "uri": "gcr.io/deeplearning-platform-release/tf2-gpu.2-3:m112"
  },
  "kernelspec": {
   "display_name": "Python 3 (ipykernel)",
   "language": "python",
   "name": "python3"
  },
  "language_info": {
   "codemirror_mode": {
    "name": "ipython",
    "version": 3
   },
   "file_extension": ".py",
   "mimetype": "text/x-python",
   "name": "python",
   "nbconvert_exporter": "python",
   "pygments_lexer": "ipython3",
   "version": "3.7.12"
  }
 },
 "nbformat": 4,
 "nbformat_minor": 5
}
